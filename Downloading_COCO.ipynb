{
  "nbformat": 4,
  "nbformat_minor": 0,
  "metadata": {
    "colab": {
      "provenance": []
    },
    "kernelspec": {
      "name": "python3",
      "display_name": "Python 3"
    },
    "language_info": {
      "name": "python"
    }
  },
  "cells": [
    {
      "cell_type": "markdown",
      "source": [
        "# Downloading Dataset"
      ],
      "metadata": {
        "id": "gP2VUOj-DRUZ"
      }
    },
    {
      "cell_type": "code",
      "execution_count": null,
      "metadata": {
        "id": "i3ivwpLE-gYZ"
      },
      "outputs": [],
      "source": [
        "!wget http://images.cocodataset.org/zips/train2017.zip -O coco_train2017.zip\n",
        "!wget http://images.cocodataset.org/zips/val2017.zip -O coco_val2017.zip\n",
        "!wget http://images.cocodataset.org/annotations/annotations_trainval2017.zip -O coco_ann2017.zip\n",
        "!wget http://images.cocodataset.org/zips/test2017.zip -O coco_test2017.zip"
      ]
    },
    {
      "cell_type": "code",
      "source": [
        "# unzip the files and remove the zipped files\n",
        "from zipfile import ZipFile, BadZipFile\n",
        "import os\n",
        "def extract_zip_file(extract_path):\n",
        "    try:\n",
        "        with ZipFile(extract_path+\".zip\") as zfile:\n",
        "            zfile.extractall(extract_path)\n",
        "        # remove zipfile\n",
        "        zfileTOremove=f\"{extract_path}\"+\".zip\"\n",
        "        if os.path.isfile(zfileTOremove):\n",
        "            os.remove(zfileTOremove)\n",
        "        else:\n",
        "            print(\"Error: %s file not found\" % zfileTOremove)\n",
        "    except BadZipFile as e:\n",
        "        print(\"Error:\", e)\n",
        "\n",
        "\n",
        "extract_train_path = \"./coco_train2017\"\n",
        "extract_val_path = \"./coco_val2017\"\n",
        "extract_ann_path=\"./coco_ann2017\"\n",
        "extract_test_path=\"./coco_test2017\"\n",
        "extract_zip_file(extract_train_path)\n",
        "extract_zip_file(extract_val_path)\n",
        "extract_zip_file(extract_ann_path)\n",
        "extract_zip_file(extract_test_path)"
      ],
      "metadata": {
        "id": "sA0KcbR8DFNk"
      },
      "execution_count": null,
      "outputs": []
    }
  ]
}